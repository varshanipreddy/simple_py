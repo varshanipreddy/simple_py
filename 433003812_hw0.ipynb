{
 "cells": [
  {
   "cell_type": "markdown",
   "metadata": {
    "id": "Liwm2fk4fhWL"
   },
   "source": [
    "#### CSCE 670 :: Information Storage & Retrieval :: Texas A&M University :: Spring 2023\n",
    "\n",
    "\n",
    "# Homework 0: Let's get it started\n",
    "\n",
    "- **100 points [1% of your final grade]**\n",
    "- **Due Monday, January 23 by 11:59pm**\n",
    "\n",
    "*Goals of this homework:* The objective of this homework is to prepare your development environment, get familiar with iPython in a Jupyter notebook as well as google colab, and then do some beginning exercises.\n",
    "\n",
    "*Submission instructions:* You should post your notebook to Canvas (look for the homework 0 assignment there). Please name your submission **your-uin_hw0.ipynb**, so for example, my submission would be something like **555001234_hw0.ipynb**. Your notebook should be fully executed on google colab when you submit ... so run all the cells for us so we can see the output, then submit that.\n",
    "\n",
    "*Grading:* This is a stress-free homework. For this starter homework, we will only check that you have submitted a notebook with at least some code to Canvas. We will not check for completeness or correctness. Basically, do your best and submit = 100."
   ]
  },
  {
   "cell_type": "markdown",
   "metadata": {
    "id": "S1QWp2t-fhWP"
   },
   "source": [
    "## iPython, Python, and our Expectations\n",
    "\n",
    "This homework and all subsequent homeworks will use iPython in a Jupyter notebook. iPython is just an interactive shell for programming in the Python language. A few years ago, the developers created a generic interactive shell called Jupyter that supports languages beyond just Python. This can be a bit confusing, and we'll add a bit to the confusion by referring to iPython and Jupyter interchangeably in this course.\n",
    "\n",
    "With respect to Python, we do not expect you to have any prior experience. We do, however, expect you to have proficiency in some programming language (so you've seen loops, conditionals, functions, etc.) and a willingness to experiment and learn on your own. Python is a fun language and you should be able to pick up the necessary portions as we move along; however, this may require you to spend some extra cycles consulting online documentation, referring to a Python book, or scouring over StackOverflow. \n",
    "\n",
    "A few basic Python pointers:\n",
    "* http://introtopython.org\n",
    "* http://ricardoduarte.github.io/python-for-developers/\n",
    "* http://mbakker7.github.io/exploratory_computing_with_python/ [particularly the basic Python language ones]\n",
    "\n",
    "We expect your code to be well-documented with appropriate comments. We prefer meaningful variable names and function names. We also expect your code to be compact and sensible -- no super-long lines, nor dense unintelligible lines of code.\n",
    "\n",
    "Note that in this course we will use Python 3.7.\n",
    "\n",
    "In general, Python code is often run from standalone Python modules or files; for this class, we will often run Python from here within the iPython notebook.\n",
    "\n",
    "Now that you're ready, let's take a look at this iPython notebook. You'll notice that it is composed of cells. Some cells have text (like this one), while others contain code and comments. This cell is written in **Markdown**, a simple text-to-HTML language. You can find a cheat sheet for Markdown here: https://github.com/adam-p/markdown-here/wiki/Markdown-Cheatsheet. You can toggle a cell between Markdown and code with the toggle button up there on the menu bar.\n",
    "\n",
    "The cell below contains code and can be **executed** by hitting the **Play** button on the menu bar or by hitting **shift + enter**."
   ]
  },
  {
   "cell_type": "code",
   "execution_count": 1,
   "metadata": {
    "id": "zcDZjFx4fhWQ"
   },
   "outputs": [
    {
     "name": "stdout",
     "output_type": "stream",
     "text": [
      "Hello world!\n"
     ]
    }
   ],
   "source": [
    "# this is a comment\n",
    "# you can execute this cell by hitting shift+enter\n",
    "# the output will appear immediately below\n",
    "print('Hello world!')"
   ]
  },
  {
   "cell_type": "markdown",
   "metadata": {
    "id": "UrobgZ4FfhWR"
   },
   "source": [
    "Since iPython is just an interactive shell around Python, you can define functions. For example:"
   ]
  },
  {
   "cell_type": "code",
   "execution_count": 2,
   "metadata": {
    "id": "UaG3NHkffhWR"
   },
   "outputs": [
    {
     "data": {
      "text/plain": [
       "27"
      ]
     },
     "execution_count": 2,
     "metadata": {},
     "output_type": "execute_result"
    }
   ],
   "source": [
    "def cubed(x):\n",
    "    \"\"\" Return the cube of a  \n",
    "        value \"\"\"\n",
    "    return x ** 3\n",
    "\n",
    "cubed(3)"
   ]
  },
  {
   "cell_type": "markdown",
   "metadata": {
    "id": "T-VfKpiVfhWS"
   },
   "source": [
    "You can even access the filesystem with commands like `ls` or `pwd`:"
   ]
  },
  {
   "cell_type": "code",
   "execution_count": 3,
   "metadata": {
    "id": "xvEh2d33fhWS"
   },
   "outputs": [
    {
     "name": "stdout",
     "output_type": "stream",
     "text": [
      "/Users/varshanireddy/Documents/TAMU academics/sem2/ISR\n",
      "433003812_hw0.ipynb sample.txt\n"
     ]
    }
   ],
   "source": [
    "!pwd\n",
    "!ls"
   ]
  },
  {
   "cell_type": "markdown",
   "metadata": {
    "id": "ZC12PN5nfhWT"
   },
   "source": [
    "## Getting Started with Numpy and matplotlib\n",
    "\n",
    "In this part, we're going to get familiar with two important libraries -- Numpy and matplotlib.\n",
    "\n",
    "### Into to Numpy\n",
    "Since Python is an interpreted language, it might not seem like the best choice for data-intensive work. Luckily, almost all of our data workflow stack is built on top of Numpy, a Python library that adds support for large, multi-dimensional arrays and matrices, along with a large library of high-level mathematical functions to operate on these arrays."
   ]
  },
  {
   "cell_type": "code",
   "execution_count": 4,
   "metadata": {
    "id": "5O6Za9UefhWU"
   },
   "outputs": [
    {
     "name": "stdout",
     "output_type": "stream",
     "text": [
      "Make a 4 row x 2 column matrix of random numbers\n",
      "[[0.93487249 0.8366059 ]\n",
      " [0.91811451 0.16754169]\n",
      " [0.62668742 0.18051355]\n",
      " [0.76593914 0.7624795 ]]\n",
      "\n",
      "Add 10 to every element\n",
      "[[10.93487249 10.8366059 ]\n",
      " [10.91811451 10.16754169]\n",
      " [10.62668742 10.18051355]\n",
      " [10.76593914 10.7624795 ]]\n",
      "\n",
      "Get the element at row 3, column 1\n",
      "10.762479498753397\n",
      "\n",
      "Get the first row\n",
      "[10.93487249 10.8366059 ]\n",
      "\n",
      "Get the first two rows\n",
      "[[10.93487249 10.8366059 ]\n",
      " [10.91811451 10.16754169]]\n",
      "\n"
     ]
    }
   ],
   "source": [
    "import numpy as np\n",
    "\n",
    "print(\"Make a 4 row x 2 column matrix of random numbers\")\n",
    "x = np.random.random((4, 2))\n",
    "print(x)\n",
    "print()\n",
    "\n",
    "print(\"Add 10 to every element\")\n",
    "x = x + 10\n",
    "print(x)\n",
    "print()\n",
    "\n",
    "print(\"Get the element at row 3, column 1\")\n",
    "print(x[3, 1])\n",
    "print()\n",
    "\n",
    "print(\"Get the first row\")\n",
    "print(x[0, :])\n",
    "print()\n",
    "\n",
    "print(\"Get the first two rows\")\n",
    "print(x[:2])\n",
    "print()"
   ]
  },
  {
   "cell_type": "markdown",
   "metadata": {
    "id": "Ox6b6yhOfhWU"
   },
   "source": [
    "Now, it's your turn. Find the maximum, minimum, and mean of the array. This does not require writing a loop. In the code cell below, type `x.m<TAB>`, to find built-in operations that may help you out."
   ]
  },
  {
   "cell_type": "code",
   "execution_count": 5,
   "metadata": {
    "id": "M0dStGRGfhWU"
   },
   "outputs": [
    {
     "name": "stdout",
     "output_type": "stream",
     "text": [
      "[[10.93487249 10.8366059 ]\n",
      " [10.91811451 10.16754169]\n",
      " [10.62668742 10.18051355]\n",
      " [10.76593914 10.7624795 ]]\n",
      "maximum\n",
      "10.93487248656815\n",
      "minimum\n",
      "10.167541692449582\n",
      "mean\n",
      "10.649094274959381\n"
     ]
    }
   ],
   "source": [
    "# your code here\n",
    "print(x)\n",
    "print(\"maximum\")\n",
    "print(x.max())\n",
    "print(\"minimum\")\n",
    "print(x.min())\n",
    "print(\"mean\")\n",
    "print(x.mean())\n",
    "\n"
   ]
  },
  {
   "cell_type": "markdown",
   "metadata": {
    "id": "dQ4h8udCfhWV"
   },
   "source": [
    "That wasy easy! Now, let's see if you can generate 500 numbers from a uniform distribution between 0 and 10,000, inclusive. That is each random number could be 0, 1, 2, ..., 10,000 with equal chance. What is the maximum, minimum, and mean of these 500 random numbers? *Hint: take a look at np.random* "
   ]
  },
  {
   "cell_type": "code",
   "execution_count": 6,
   "metadata": {
    "id": "zRhXS15bfhWV"
   },
   "outputs": [
    {
     "name": "stdout",
     "output_type": "stream",
     "text": [
      "[5288 4416 6147 4714 6855 4740 7950 8779 2053 4462 4917 4324 5836 9162\n",
      " 8577 4548  944  174 8277 2420 8902 2993 3096 7642 3109 2062 6946 5465\n",
      " 1858 6321 2442 3046  430 1815 9854 1075 5221 6319  783 9465 1495 1158\n",
      " 4053 2177 4347 6621 4410 9824 5190 5767 6720  592 2417 9975 7136  973\n",
      " 8873  622 6234 7811  496 7174 1559 6232  568 3908 3926 5618 4301 4656\n",
      " 4626 9475 1390  992 7119 9479  377 8510 5034 1408 7931 8415 9706 8588\n",
      "  906  803 4421 1625 2015 4882 8106 2038 2681 4828 2736 6165 5635 9338\n",
      " 7060 1752  565  293 4511 6680 1420 4719 4684 2401 7307  943 9805 2186\n",
      " 1221 7156 5615 2288 3404 6881 9520 8085 4533 5891 1667 3924 5175 5195\n",
      " 4569  337 9361 9752 4671 2479 2264  721 6668 4878 5415 4866 1829 8335\n",
      " 2590 8463 9670 6827  184 8573 1762 3823 3240 1863 2423 6166 6039 4647\n",
      "  147 6755 1227 8265 2839 8844 3453 2897 4969  234 5237 2493 2173 3495\n",
      " 8044   88  187 7941 2616 9170 4990 9915 1506 7011 4499 3723 6276 8546\n",
      " 4401  583 1573 3553 9233 1114 8226 1758  491 9131 8927 3722 9982 3634\n",
      " 7483 2075 5346 5012 1697 7140  490 8338 2852 1108 3043 2336 8970 5828\n",
      " 8604 4302 6048 2658 1104 1286 3570 5405 9657 4437 6740 9712 1887 1862\n",
      " 6754 9358 8212 2989 3230 1620 3252 1941 6482 3710 9180  472 9128 5610\n",
      "  354 5433 6462 6245 6562 9976 6228 4277 7851 5933  957 5056 3899 3903\n",
      " 8533 3128 2465 2508 1261 5758 2418 4686 5977 4127 5550 7236 3702 7206\n",
      " 2093 8996 8623  813 6584 4035 9752 7035  202 7077 7086 6452 5615 8727\n",
      " 5980 7338 8125 7824 2736 2901 3725 6600 7419 1609 6635 1195 8143 7626\n",
      " 4047 2274 3947 8737 4741 9384 1084 7563 6494 2329 9632 8582 9510 2023\n",
      " 6094 1390 8450 5647 4700 1079 3207 5268 3533  230 6386 3122 6807 7832\n",
      "  363 2780 5247 9203 7429 5462 5958 2121 9651 4615 8114 8872 9450 6368\n",
      " 6046 1867 9817 7655 6017 8914 5753 4570 1100 9862 3163 5160 5322 6517\n",
      " 3129 7040 8716 2841 6937 3569 3570 8843 7731 8551 4487 7293 6724 6244\n",
      "  291   31 9059 1611 1127  556 6515 9604 6465 5727 2310 9977 8976 6779\n",
      "  161 9262 9475 9045 3678 4418 1677 6232 4862 4732 8790 9854 2081 7528\n",
      "  108 6099 4259 4833 8787 2480 7574  610 4193 2512 4885  996  774 7570\n",
      " 4702 5900 9782  758 8209 7437 6352 9176 8638  148 8027   74 7526 3041\n",
      "  147 6332  681 5730 7130 6904 5233 9066 2701 8734 5352 3758 7400 5960\n",
      " 5160 3874 9708 4589 5986 8104 8331 9878 6810 4174 1925 2379  576 7196\n",
      "   14  527  927 8653 7698 3859  887 8524 6066 6369 4804 3051 9232 4787\n",
      " 8942 7201 5853 2311 4092 4843 4972  644 3429  530 2608 2900 3429 1096\n",
      " 2309 5199 2081 1440   92 8512 1754 2942 9671 5230 5385 8988 6762 1711\n",
      " 2587 5389  633 3638 9613 1216 3193 5896 1130 2559]\n",
      "maximum\n",
      "9982\n",
      "minimum\n",
      "14\n",
      "mean\n",
      "4943.3\n"
     ]
    }
   ],
   "source": [
    "# your code here\n",
    "# 1 D array with random values\n",
    "u = np.random.randint(low = 0, high = 10000, size = 500)\n",
    "print(u)\n",
    "print(\"maximum\")\n",
    "print(u.max())\n",
    "print(\"minimum\")\n",
    "print(u.min())\n",
    "print(\"mean\")\n",
    "print(u.mean())"
   ]
  },
  {
   "cell_type": "markdown",
   "metadata": {
    "id": "POx73VZIfhWV"
   },
   "source": [
    "### Intro to matplotlib\n",
    "The most widespread Python plotting library is matplotlib. With it, you can create graphs, charts, basic maps, and other data visualizations. Later in the semester, we'll use `seaborn`, a library built on top of matplotlib that provides even more beautiful charts.\n",
    "\n",
    "Below, we provide some simple x and y coordinates that are then plotted. You should update the plot to include:\n",
    "* a label for the x-axis (call it 'X-axis')\n",
    "* a label for the y-axis (call it 'Y-axis')\n",
    "* a label for the x, y1 curve (call it 'Alice')\n",
    "* a label for the x, y2 curve (call it 'Bob')\n",
    "* a legend in the lower right corner"
   ]
  },
  {
   "cell_type": "code",
   "execution_count": 7,
   "metadata": {
    "id": "luHORxgcfhWV"
   },
   "outputs": [
    {
     "data": {
      "image/png": "[encoded data removed]",
      "text/plain": [
       "<Figure size 640x480 with 1 Axes>"
      ]
     },
     "metadata": {},
     "output_type": "display_data"
    }
   ],
   "source": [
    "# this line prepares IPython for working with matplotlib\n",
    "%matplotlib inline  \n",
    "\n",
    "import matplotlib.pyplot as plt  \n",
    "\n",
    "x = [0, 1, 2, 3, 4]  \n",
    "y1 = [10, 12, 10, 10, 12]\n",
    "y2 = [8, 9, 9, 11, 12]\n",
    "\n",
    "plt.plot(x, y1, label=\"Alice\")\n",
    "plt.plot(x, y2, label=\"Bob\") \n",
    "# your code here (plus you may need to modify the previous two lines)\n",
    "plt.xlabel(\"X-axis\")\n",
    "plt.ylabel(\"Y-axis\")\n",
    "leg = plt.legend(loc='lower right')\n",
    "plt.show()"
   ]
  },
  {
   "cell_type": "markdown",
   "metadata": {
    "id": "BWdb229MfhWW"
   },
   "source": [
    "## Python Data Structures\n",
    "Here we introduce some of the popular built-in data structures in Python: list, set and dictionary.\n",
    "#### List"
   ]
  },
  {
   "cell_type": "code",
   "execution_count": 8,
   "metadata": {
    "id": "-cz3pkbcfhWW"
   },
   "outputs": [
    {
     "name": "stdout",
     "output_type": "stream",
     "text": [
      "Add item 7 to the list\n",
      "[1, 5, 6, 3, 4, 0, 7]\n",
      "\n",
      "Remove item 4 from the list\n",
      "[1, 5, 6, 3, 0, 7]\n",
      "\n",
      "Insert item 3 at a position 2\n",
      "[1, 5, 3, 6, 3, 0, 7]\n",
      "\n"
     ]
    }
   ],
   "source": [
    "x=[1, 5, 6, 3, 4, 0]\n",
    "print('Add item 7 to the list')\n",
    "x.append(7)\n",
    "print(x)\n",
    "print()\n",
    "\n",
    "print('Remove item 4 from the list')\n",
    "x.remove(4)\n",
    "print(x)\n",
    "print()\n",
    "\n",
    "print('Insert item 3 at a position 2')\n",
    "x.insert(2,3)\n",
    "print(x)\n",
    "print()"
   ]
  },
  {
   "cell_type": "markdown",
   "metadata": {
    "id": "mIQUKdnlfhWW"
   },
   "source": [
    "Now, it's your turn. Sort the list and then reverse the list. In the code cell below, type x.<TAB>, to find built-in operations that may help you out."
   ]
  },
  {
   "cell_type": "code",
   "execution_count": 9,
   "metadata": {
    "id": "6BSkzaX8fhWW"
   },
   "outputs": [
    {
     "name": "stdout",
     "output_type": "stream",
     "text": [
      "[7, 6, 5, 3, 3, 1, 0]\n"
     ]
    }
   ],
   "source": [
    "#your code here\n",
    "x.sort(reverse=True)\n",
    "print(x)"
   ]
  },
  {
   "cell_type": "markdown",
   "metadata": {
    "id": "q1AwAvymfhWW"
   },
   "source": [
    "#### Set \n",
    "A set is an unordered collection with no duplicate elements."
   ]
  },
  {
   "cell_type": "code",
   "execution_count": 10,
   "metadata": {
    "id": "LY_ue5wpfhWX"
   },
   "outputs": [
    {
     "name": "stdout",
     "output_type": "stream",
     "text": [
      "{1, 2, 'c', 'a'}\n",
      "{'d', 'c', 4, 5}\n",
      "\n",
      "Check if item a is in set s1\n",
      "True\n",
      "\n",
      "return union of s1 and s2\n",
      "{1, 2, 4, 5, 'c', 'd', 'a'}\n",
      "\n",
      "return intersection of s1 and s2\n",
      "{'c'}\n",
      "\n"
     ]
    }
   ],
   "source": [
    "s1=set([1,2,'a','c'])\n",
    "s2=set([4,5,'d','c'])\n",
    "print(s1)\n",
    "print(s2)\n",
    "print()\n",
    "\n",
    "print('Check if item a is in set s1')\n",
    "print('a' in s1)\n",
    "print()\n",
    "\n",
    "print('return union of s1 and s2')\n",
    "print(s1.union(s2))\n",
    "print()\n",
    "\n",
    "print('return intersection of s1 and s2')\n",
    "print(s1.intersection(s2))\n",
    "print()"
   ]
  },
  {
   "cell_type": "markdown",
   "metadata": {
    "id": "4pHeG_ATfhWX"
   },
   "source": [
    "Now it's your turn to try out .add(), .remove(), .issubset() and .issuperset() built-in operations and report the results. "
   ]
  },
  {
   "cell_type": "code",
   "execution_count": 11,
   "metadata": {
    "id": "rjPtkfnEfhWX"
   },
   "outputs": [
    {
     "name": "stdout",
     "output_type": "stream",
     "text": [
      "s1 after add\n",
      "{1, 2, 'reddy', 'varsha', 'c', 'a'}\n",
      "\n",
      "s2 after add\n",
      "{4, 5, 'reddy', 'varsha', 'd', 'c'}\n",
      "\n",
      "s1 after remove 1\n",
      "{2, 'reddy', 'varsha', 'c', 'a'}\n",
      "\n",
      "is s1 subset of s2 ??\n",
      "False\n",
      "\n",
      "is s2 superset of s1 ??\n",
      "False\n",
      "\n",
      "s1 after remove 2, a\n",
      "{'reddy', 'varsha', 'c'}\n",
      "\n",
      "is s1 subset of s2 ??\n",
      "True\n",
      "\n",
      "is s2 superset of s1 ??\n",
      "True\n",
      "\n"
     ]
    }
   ],
   "source": [
    "#your code here\n",
    "s1.add('varsha')\n",
    "s1.add('reddy')\n",
    "print('s1 after add')\n",
    "print(s1)\n",
    "print()\n",
    "s2.add('varsha')\n",
    "s2.add('reddy')\n",
    "print('s2 after add')\n",
    "print(s2)\n",
    "print()\n",
    "s1.remove(1)\n",
    "print('s1 after remove 1')\n",
    "print(s1)\n",
    "print()\n",
    "print('is s1 subset of s2 ??')\n",
    "print(s1.issubset(s2))\n",
    "print()\n",
    "print('is s2 superset of s1 ??')\n",
    "print(s2.issuperset(s1))\n",
    "print()\n",
    "s1.remove(2)\n",
    "s1.remove('a')\n",
    "\n",
    "print('s1 after remove 2, a')\n",
    "print(s1)\n",
    "print()\n",
    "print('is s1 subset of s2 ??')\n",
    "print(s1.issubset(s2))\n",
    "print()\n",
    "\n",
    "\n",
    "print('is s2 superset of s1 ??')\n",
    "print(s2.issuperset(s1))\n",
    "print()"
   ]
  },
  {
   "cell_type": "markdown",
   "metadata": {
    "id": "ynz_1mYGfhWX"
   },
   "source": [
    "#### Dictionary\n",
    "Unlike sequential data structures, which are indexed by a range of numbers, dictionaries are indexed by keys, which can be any type like strings and numbers.\n"
   ]
  },
  {
   "cell_type": "code",
   "execution_count": 12,
   "metadata": {
    "id": "NSYPyapkfhWX"
   },
   "outputs": [
    {
     "name": "stdout",
     "output_type": "stream",
     "text": [
      "{'fruit': ['apple', 'orange'], 'animal': ['cat', 'dog']}\n",
      "\n",
      "add food with value of soup\n",
      "{'fruit': ['apple', 'orange'], 'animal': ['cat', 'dog'], 'food': ['soup']}\n",
      "\n",
      "add value of banana into fruit\n",
      "{'fruit': ['apple', 'orange', 'banana'], 'animal': ['cat', 'dog'], 'food': ['soup']}\n"
     ]
    }
   ],
   "source": [
    "dic = {'fruit': ['apple', 'orange'], 'animal': ['cat', 'dog']}\n",
    "print(dic)\n",
    "print()\n",
    "\n",
    "print('add food with value of soup')\n",
    "dic['food']=['soup']\n",
    "print(dic)\n",
    "print()\n",
    "\n",
    "print('add value of banana into fruit')\n",
    "dic['fruit'].append('banana')\n",
    "print(dic)\n"
   ]
  },
  {
   "cell_type": "markdown",
   "metadata": {
    "id": "0xhF9FQwfhWX"
   },
   "source": [
    "Create a dictionary where the keys are integer numbers from 0 to 10 and the corresponding values are the square of the key value.  "
   ]
  },
  {
   "cell_type": "code",
   "execution_count": 13,
   "metadata": {
    "id": "_26FZ3IifhWX"
   },
   "outputs": [
    {
     "data": {
      "text/plain": [
       "{0: 0, 1: 1, 2: 4, 3: 9, 4: 16, 5: 25, 6: 36, 7: 49, 8: 64, 9: 81, 10: 100}"
      ]
     },
     "execution_count": 13,
     "metadata": {},
     "output_type": "execute_result"
    }
   ],
   "source": [
    "# your code here\n",
    "int_sq={ x: x**2 for x in range (0,11)}\n",
    "int_sq"
   ]
  },
  {
   "cell_type": "markdown",
   "metadata": {
    "id": "0x6yxq50fhWY"
   },
   "source": [
    "## Getting started with File Input & Output\n",
    "\n",
    "Python can easily handle reading and writing files. As far as Python is concerned, a file is just a string (often very large!) stored on your local file system, that you can read or write, gradually or all together.\n",
    "\n",
    "### Writing Files\n",
    "\n",
    "*open()* returns a file object, and is most commonly used with two arguments: *open(filename, mode)*."
   ]
  },
  {
   "cell_type": "code",
   "execution_count": 14,
   "metadata": {
    "id": "ap4nZeRTfhWY"
   },
   "outputs": [],
   "source": [
    "outFile = open('sample.txt', 'w')\n",
    "outFile.write('The first line\\nThe second line\\nThe third line\\n')\n",
    "outFile.close()"
   ]
  },
  {
   "cell_type": "markdown",
   "metadata": {
    "id": "W1ELtGE8fhWY"
   },
   "source": [
    "The first line creates a file object, which links Python to your computer’s file system. The first parameter in the file constructor gives the file name, *sample.txt*. The second parameter indicates how you use the file. The 'w' is short for **w**rite. If the file already existed, the old contents are destroyed.\n",
    "\n",
    "And 'a' opens the file for **a**ppending; any data written to the file is automatically added to the end. 'r+' opens the file for both reading and writing.\n",
    "\n",
    "The *close* line is essential for Python to make sure everything is really written, and to relinquish control of the file."
   ]
  },
  {
   "cell_type": "markdown",
   "metadata": {
    "id": "TenFSov1fhWY"
   },
   "source": [
    "### Methods of File Objects\n",
    "\n",
    "To read a file’s contents, call *f.read(size)*, which reads some quantity of data and returns it as a string. *size* is an optional numeric argument. When *size* is omitted or negative, the entire contents of the file will be read and returned."
   ]
  },
  {
   "cell_type": "code",
   "execution_count": 15,
   "metadata": {
    "id": "NG-8oDRhfhWY"
   },
   "outputs": [
    {
     "data": {
      "text/plain": [
       "'The first line\\nThe second line\\nThe third line\\n'"
      ]
     },
     "execution_count": 15,
     "metadata": {},
     "output_type": "execute_result"
    }
   ],
   "source": [
    "outFile = open('sample.txt', 'r')\n",
    "outFile.read()"
   ]
  },
  {
   "cell_type": "markdown",
   "metadata": {
    "id": "pxGqf4DUfhWY"
   },
   "source": [
    "For reading lines from a file, you can loop over the file object. This is memory efficient, fast, and leads to simple code:"
   ]
  },
  {
   "cell_type": "code",
   "execution_count": 16,
   "metadata": {
    "id": "zVp9mo8lfhWZ"
   },
   "outputs": [
    {
     "name": "stdout",
     "output_type": "stream",
     "text": [
      "The first line\n",
      "The second line\n",
      "The third line\n"
     ]
    }
   ],
   "source": [
    "outFile = open('sample.txt', 'r')\n",
    "for line in outFile:\n",
    "    print(line, end='')"
   ]
  },
  {
   "cell_type": "markdown",
   "metadata": {
    "id": "jaq30gu7fhWZ"
   },
   "source": [
    "It is good practice to use the *with* keyword when dealing with file objects. This has the advantage that the file is properly closed after its suite finishes, even if an exception is raised on the way. It is also much shorter than writing equivalent try-finally blocks:"
   ]
  },
  {
   "cell_type": "code",
   "execution_count": 17,
   "metadata": {
    "id": "vBtg6P9jfhWZ"
   },
   "outputs": [
    {
     "data": {
      "text/plain": [
       "'The first line\\nThe second line\\nThe third line\\n'"
      ]
     },
     "execution_count": 17,
     "metadata": {},
     "output_type": "execute_result"
    }
   ],
   "source": [
    "with open('sample.txt', 'r') as f:\n",
    "    outFile = f.read()\n",
    "outFile"
   ]
  },
  {
   "cell_type": "code",
   "execution_count": 18,
   "metadata": {
    "id": "6Ra-Q-A6fhWZ"
   },
   "outputs": [
    {
     "data": {
      "text/plain": [
       "True"
      ]
     },
     "execution_count": 18,
     "metadata": {},
     "output_type": "execute_result"
    }
   ],
   "source": [
    "f.closed"
   ]
  },
  {
   "cell_type": "code",
   "execution_count": 19,
   "metadata": {
    "id": "wiwK3MGcfhWZ"
   },
   "outputs": [],
   "source": [
    "with open('sample.txt', 'a') as f:\n",
    "    f.write('The fourth line\\n')"
   ]
  },
  {
   "cell_type": "code",
   "execution_count": 20,
   "metadata": {
    "id": "6iOQ_Oy5fhWZ"
   },
   "outputs": [
    {
     "name": "stdout",
     "output_type": "stream",
     "text": [
      "['The first line\\n', 'The second line\\n', 'The third line\\n', 'The fourth line\\n']\n"
     ]
    }
   ],
   "source": [
    "with open('sample.txt', 'r') as f:\n",
    "    print(f.readlines())  # readlines – reads the entire file and returns it as a list of strings"
   ]
  },
  {
   "cell_type": "markdown",
   "metadata": {
    "id": "dZr34onIfhWZ"
   },
   "source": [
    "### Open a Remote File via URL\n",
    "\n",
    "Python can easily access the content of a webpage via its URL, and print out locally line-by-line without saving a local copy of the file. "
   ]
  },
  {
   "cell_type": "code",
   "execution_count": 21,
   "metadata": {
    "id": "_3nJSKZGfhWZ"
   },
   "outputs": [
    {
     "name": "stdout",
     "output_type": "stream",
     "text": [
      "<!DOCTYPE html>\n",
      "<html xmlns=\"http://www.w3.org/1999/xhtml\" class=\"no-js\" lang=\"en\">\n",
      "<head>\n",
      "    <link href=\"https://www.tamu.edu/traditions/aggie-culture/index.html\" rel=\"canonical\"/>\n",
      "\n",
      "<meta charset=\"utf-8\"/>\n",
      "<meta content=\"IE=edge\" http-equiv=\"X-UA-Compatible\"/>\n",
      "<meta content=\"width=device-width, initial-scale=1.0\" name=\"viewport\"/>\n",
      "<title>Aggie Culture | Aggie Traditions</title>\n",
      "\n",
      "\n",
      "<link href=\"../images/favicon.ico\" rel=\"shortcut icon\"/>\n",
      "<link href=\"https://fonts.googleapis.com/css?family=Open+Sans:300,400,400italic,800\" rel=\"stylesheet\" type=\"text/css\"/>\n",
      "<link href=\"https://fonts.googleapis.com/css?family=Oswald:300,400,700\" rel=\"stylesheet\" type=\"text/css\"/>\n",
      "<link href=\"../css/app3.css\" rel=\"stylesheet\" type=\"text/css\"/>\n",
      "<script src=\"../js/modernizr.js\" type=\"text/javascript\"></script>\n",
      "</head>\n",
      "<body>\n",
      "<!-- Google Tag Manager -->\n",
      "<script>(function(w,d,s,l,i){w[l]=w[l]||[];w[l].push({'gtm.start':\n",
      "new Date().getTime(),event:'gtm.js'});var f=d.getElementsByTagName(s)[0],\n",
      "j=d.createElement(s),dl=l!='dataLayer'?'&amp;l='+l:'';j.async=true;j.src=\n",
      "'//www.googletagmanager.com/gtm.js?id='+i+dl;f.parentNode.insertBefore(j,f);\n",
      "})(window,document,'script','dataLayer','GTM-53LFZF');</script>\n",
      "\n",
      "<noscript aria-hidden=\"true\"><iframe height=\"0\" src=\"//www.googletagmanager.com/ns.html?id=GTM-53LFZF\" style=\"display:none;visibility:hidden\" title=\"Google Tag Manager\" width=\"0\"></iframe></noscript>\n",
      "\n",
      "<!-- End Google Tag Manager -->\n",
      "<nav id=\"skip\">\n",
      "    <a class=\"smooth\" href=\"#timeline\">Skip to the main content</a>\n",
      "</nav>\n",
      "<div class=\"off-canvas-wrap\" data-offcanvas=\"\">\n",
      "<div class=\"inner-wrap\" role=\"navigation\">        <div class=\"nav-container\">\n",
      "          <div class=\"nav-wrap\">\n",
      "            <nav class=\"top-bar\" data-topbar=\"\">\n",
      "              <ul class=\"title-area\">\n",
      "                <li class=\"banner\">\n",
      "                  <a href=\"/traditions/\"><img alt=\"Aggie Traditions\" src=\"../images/banner.png\"/></a>\n",
      "                </li>\n",
      "                <li class=\"toggle-topbar\"><a href=\"#\"><span>Menu</span></a></li>\n",
      "              </ul>\n",
      "\n",
      "              <section class=\"top-bar-section\">\n",
      "                <ul class=\"right\">\n",
      "                  <li><a href=\"/traditions/orientation/\" id=\"orientationLink\">Orientation</a></li>\n",
      "                  <li><a href=\"/traditions/aggie-culture/\" id=\"cultureLink\">Aggie Culture</a></li>\n",
      "                  <li><a href=\"/traditions/the-corps/\" id=\"corpsLink\">The Corps</a></li>\n",
      "                  <li><a href=\"/traditions/gameday/\" id=\"gamedayLink\">Gameday</a></li>\n",
      "                  <li><a href=\"/traditions/remembrance/\" id=\"remembranceLink\">Remembrance</a></li>\n",
      "                  <li><a class=\"TAMU-logo\" href=\"http://www.tamu.edu/\"><img alt=\"Texas A&amp;M University\" src=\"../images/TAM-Logo-white-small.png\"/></a></li>\n",
      "                </ul>\n",
      "              </section>\n",
      "            </nav>\n",
      "          </div>\n",
      "        </div>\n",
      "\n",
      "        <nav class=\"tab-bar\">\n",
      "          <section class=\"right-small\">\n",
      "            <a class=\"TAMU-logo\" href=\"http://www.tamu.edu/\"><img alt=\"Texas A&amp;M University\" src=\"../images/TAM-Logo-white-small.png\"/></a>\n",
      "          </section>\n",
      "\n",
      "          <section class=\"middle tab-bar-section\">\n",
      "            <a href=\"/traditions/\"><img alt=\"Aggie Traditions\" src=\"../images/banner.png\"/></a>\n",
      "          </section>\n",
      "\n",
      "          <section class=\"left-small\">\n",
      "            <a class=\"left-off-canvas-toggle menu-icon\" href=\"#\">Menu</a>\n",
      "          </section>\n",
      "        </nav>\n",
      "\n",
      "        <aside class=\"left-off-canvas-menu\">\n",
      "          <ul class=\"off-canvas-list\">\n",
      "            <li><a href=\"/traditions/orientation/\">Orientation</a></li>\n",
      "            <li><a href=\"/traditions/aggie-culture/\">Aggie Culture</a></li>\n",
      "            <li><a href=\"/traditions/the-corps/\">The Corps</a></li>\n",
      "            <li><a href=\"/traditions/gameday/\">Gameday</a></li>\n",
      "            <li><a href=\"/traditions/remembrance/\">Remembrance</a></li>\n",
      "          </ul>\n",
      "        </aside>  \n",
      "<main>\n",
      "\n",
      "<section id=\"hero\">\n",
      "    <div class=\"hero-bg aggie-culture\"></div>\n",
      "    <div class=\"hero-content\">\n",
      "        <h1>Aggie Culture</h1>\n",
      "        <div class=\"links\">\n",
      "            <ul class=\"inline-list\">\n",
      "                            <li><a href=\"#aggie-terminology\">Aggie Terminology</a></li>\n",
      "                            <li><a href=\"#aggie-ring\">Aggie Ring</a></li>\n",
      "                            <li><a href=\"#century-tree\">Century Tree</a></li>\n",
      "                            <li><a href=\"#pennies-on-sully\">Pennies on Sully</a></li>\n",
      "                            <li><a href=\"#elephant-walk\">Elephant Walk</a></li>\n",
      "                            <li><a href=\"#reveille\">Reveille</a></li>\n",
      "                            <li><a href=\"#the-big-event\">The Big Event</a></li>\n",
      "                            <li><a href=\"#replant\">Replant</a></li>\n",
      "                        </ul>\n",
      "        </div>\n",
      "    </div>\n",
      "</section>\n",
      "\n",
      "<section id=\"timeline\">\n",
      "    <div class=\"row-bg\">\n",
      "        <div class=\"row timeline-entry\" id=\"aggie-terminology\">\n",
      "            <div class=\"timeline-header\">\n",
      "                <div class=\"inner\">\n",
      "                    <div class=\"star\"></div>\n",
      "                    <h2><span>Aggie Terminology</span></h2>\n",
      "                    <img alt=\"Two corps members shaking hands\" src=\"../images/aggie-culture/aggie-terminology.jpg\"/>\n",
      "                </div>\n",
      "            </div>\n",
      "            <div class=\"timeline-content\">\n",
      "                <div class=\"inner\">\n",
      "                <p>There are many terms and phrases that are unique to Texas A&amp;M, and you'll often hear Aggies using them when speaking to one another. These words are often rooted in history and tradition, much like the university itself.</p>\n",
      "                <a aria-label=\"Read more about Aggie Terminology\" class=\"button\" href=\"/traditions/aggie-culture/aggie-terminology/\" title=\"Read more about Aggie Terminology\">Read More <span class=\"fa fa-long-arrow-right\"></span></a>\n",
      "                </div>\n",
      "            </div>\n",
      "        </div>\n",
      "    </div>\n",
      "    <div class=\"row-bg\">\n",
      "        <div class=\"row timeline-entry\" id=\"aggie-ring\">\n",
      "            <div class=\"timeline-header\">\n",
      "                <div class=\"inner\">\n",
      "                    <div class=\"star\"></div>\n",
      "                    <h2>1889<span>Aggie Ring</span></h2>\n",
      "                    <img alt=\"Four people showing their Aggie Rings\" src=\"../images/aggie-culture/aggie-ring.jpg\"/>\n",
      "                </div>\n",
      "            </div>\n",
      "            <div class=\"timeline-content\">\n",
      "                <div class=\"inner\">\n",
      "                <p>The Aggie Ring is the most recognizable symbol of the Aggie Network, creating an instant connection between Aggies long after they leave the university.</p>\n",
      "                <a aria-label=\"Read more about Aggie Ring\" class=\"button\" href=\"/traditions/aggie-culture/aggie-ring/\" title=\"Read more about Aggie Ring\">Read More <span class=\"fa fa-long-arrow-right\"></span></a>\n",
      "                </div>\n",
      "            </div>\n",
      "        </div>\n",
      "    </div>\n",
      "    <div class=\"row-bg\">\n",
      "        <div class=\"row timeline-entry\" id=\"century-tree\">\n",
      "            <div class=\"timeline-header\">\n",
      "                <div class=\"inner\">\n",
      "                    <div class=\"star\"></div>\n",
      "                    <h2><span>Century Tree</span></h2>\n",
      "                    <img alt=\"The Century Tree\" src=\"../images/aggie-culture/century-tree.jpg\"/>\n",
      "                </div>\n",
      "            </div>\n",
      "            <div class=\"timeline-content\">\n",
      "                <div class=\"inner\">\n",
      "                <p>At over 100 years old, the Century Tree has grown along with the university over the decades.</p>\n",
      "                <a aria-label=\"Read more about Century Tree\" class=\"button\" href=\"/traditions/aggie-culture/century-tree/\" title=\"Read more about Century Tree\">Read More <span class=\"fa fa-long-arrow-right\"></span></a>\n",
      "                </div>\n",
      "            </div>\n",
      "        </div>\n",
      "    </div>\n",
      "    <div class=\"row-bg\">\n",
      "        <div class=\"row timeline-entry\" id=\"pennies-on-sully\">\n",
      "            <div class=\"timeline-header\">\n",
      "                <div class=\"inner\">\n",
      "                    <div class=\"star\"></div>\n",
      "                    <h2>1918<span>Pennies on Sully</span></h2>\n",
      "                    <img alt=\"Pennies on the foot of the Sul Ross statue\" src=\"../images/aggie-culture/pennies-on-sully.jpg\"/>\n",
      "                </div>\n",
      "            </div>\n",
      "            <div class=\"timeline-content\">\n",
      "                <div class=\"inner\">\n",
      "                <p>Placing pennies at the base of the Sul Ross statue on campus just might give an Aggie the extra luck he or she needs to ace an upcoming exam.</p>\n",
      "                <a aria-label=\"Read more about Pennies on Sully\" class=\"button\" href=\"/traditions/aggie-culture/pennies-on-sully/\" title=\"Read more about Pennies on Sully\">Read More <span class=\"fa fa-long-arrow-right\"></span></a>\n",
      "                </div>\n",
      "            </div>\n",
      "        </div>\n",
      "    </div>\n",
      "    <div class=\"row-bg\">\n",
      "        <div class=\"row timeline-entry\" id=\"elephant-walk\">\n",
      "            <div class=\"timeline-header\">\n",
      "                <div class=\"inner\">\n",
      "                    <div class=\"star\"></div>\n",
      "                    <h2>1926<span>Elephant Walk</span></h2>\n",
      "                    <img alt=\"Crowd gathered in front of YMCA building\" src=\"../images/aggie-culture/elephant-walk.jpg\"/>\n",
      "                </div>\n",
      "            </div>\n",
      "            <div class=\"timeline-content\">\n",
      "                <div class=\"inner\">\n",
      "                <p>This tradition, which brings the senior class together for a symbolic walk through campus, is one of the oldest at Texas A&amp;M.</p>\n",
      "                <a aria-label=\"Read more about Elephant Walk\" class=\"button\" href=\"/traditions/aggie-culture/elephant-walk/\" title=\"Read more about Elephant Walk\">Read More <span class=\"fa fa-long-arrow-right\"></span></a>\n",
      "                </div>\n",
      "            </div>\n",
      "        </div>\n",
      "    </div>\n",
      "    <div class=\"row-bg\">\n",
      "        <div class=\"row timeline-entry\" id=\"reveille\">\n",
      "            <div class=\"timeline-header\">\n",
      "                <div class=\"inner\">\n",
      "                    <div class=\"star\"></div>\n",
      "                    <h2>1931<span>Reveille</span></h2>\n",
      "                    <img alt=\"Reveille\" src=\"../images/aggie-culture/reveille-x-traditions.jpg\"/>\n",
      "                </div>\n",
      "            </div>\n",
      "            <div class=\"timeline-content\">\n",
      "                <div class=\"inner\">\n",
      "                <p>Reveille is the official mascot of Texas A&amp;M, and she can often be seen on campus in class or attending events.</p>\n",
      "                <a aria-label=\"Read more about Reveille\" class=\"button\" href=\"/traditions/aggie-culture/reveille/\" title=\"Read more about Reveille\">Read More <span class=\"fa fa-long-arrow-right\"></span></a>\n",
      "                </div>\n",
      "            </div>\n",
      "        </div>\n",
      "    </div>\n",
      "    <div class=\"row-bg\">\n",
      "        <div class=\"row timeline-entry\" id=\"the-big-event\">\n",
      "            <div class=\"timeline-header\">\n",
      "                <div class=\"inner\">\n",
      "                    <div class=\"star\"></div>\n",
      "                    <h2>1982<span>The Big Event</span></h2>\n",
      "                    <img alt=\"Two people raking leaves at The Big Event\" src=\"../images/aggie-culture/the-big-event.jpg\"/>\n",
      "                </div>\n",
      "            </div>\n",
      "            <div class=\"timeline-content\">\n",
      "                <div class=\"inner\">\n",
      "                <p>This unique tradition is the largest one-day student-run service project in the United States.</p>\n",
      "                <a aria-label=\"Read more about The Big Event\" class=\"button\" href=\"/traditions/aggie-culture/the-big-event/\" title=\"Read more about The Big Event\">Read More <span class=\"fa fa-long-arrow-right\"></span></a>\n",
      "                </div>\n",
      "            </div>\n",
      "        </div>\n",
      "    </div>\n",
      "    <div class=\"row-bg\">\n",
      "        <div class=\"row timeline-entry\" id=\"replant\">\n",
      "            <div class=\"timeline-header\">\n",
      "                <div class=\"inner\">\n",
      "                    <div class=\"star\"></div>\n",
      "                    <h2>1991<span>Replant</span></h2>\n",
      "                    <img alt=\"A tree being planted during Replant\" src=\"../images/aggie-culture/replant.jpg\"/>\n",
      "                </div>\n",
      "            </div>\n",
      "            <div class=\"timeline-content\">\n",
      "                <div class=\"inner\">\n",
      "                <p>Each year, Aggies help plant hundreds of trees at local parks and schools.</p>\n",
      "                <a aria-label=\"Read more about Replant\" class=\"button\" href=\"/traditions/aggie-culture/replant/\" title=\"Read more about Replant\">Read More <span class=\"fa fa-long-arrow-right\"></span></a>\n",
      "                </div>\n",
      "            </div>\n",
      "        </div>\n",
      "    </div>\n",
      "</section>\n",
      "</main>\n",
      "<footer>\n",
      "  <div class=\"top-links\">\n",
      "    <div class=\"footer-layout\">\n",
      "      <div class=\"footer-img text-center\"><a href=\"http://www.tamu.edu/\"><img alt=\"Texas A&amp;M University\" src=\"../images/primary-mark.png\"/></a></div>\n",
      "      <div class=\"footer-content\">\n",
      "        <ul class=\"inline-list\">\n",
      "          <li>© 2022 Texas A&amp;M University</li>\n",
      "          <li><a href=\"https://www.google.com/maps/place/Texas+A%26M+University/@30.614919,-96.342316,17z/data=!3m1!4b1!4m2!3m1!1s0x864683a30a9a7c41:0xdb2904a4a0fbd02?hl=en\">College Station, Texas 77843</a></li>\n",
      "          <li><a href=\"https://www.tamu.edu/statements/index.html\">Site Policies</a></li>\n",
      "        </ul>\n",
      "        <ul class=\"inline-list\">\n",
      "          <li><a href=\"https://www.tamug.edu/\">Texas A&amp;M at Galveston</a></li>\n",
      "          <li><a href=\"https://www.qatar.tamu.edu/\">Texas A&amp;M at Qatar</a></li>\n",
      "          <li><a href=\"https://www.tamus.edu/system/about/\">Texas A&amp;M System Campuses</a></li>\n",
      "        </ul>\n",
      "        <a class=\"button white-button show-for-small smooth\" href=\"#skip\">Go to top</a>\n",
      "      </div>\n",
      "    </div>\n",
      "  </div>\n",
      "</footer>  \n",
      "<a class=\"exit-off-canvas\"></a></div>\n",
      "</div>\n",
      "<script src=\"../js/jquery.js\" type=\"text/javascript\"></script>\n",
      "<script src=\"../js/app.js\" type=\"text/javascript\"></script>\n",
      "</body>\n",
      "</html>\n"
     ]
    }
   ],
   "source": [
    "import urllib3  # the lib that handles the url stuff\n",
    "\n",
    "url = \"https://www.tamu.edu/traditions/aggie-culture/\"\n",
    "\n",
    "# your code here: open the url. Hint: take a look at urllib3.PoolManager\n",
    "\n",
    "import requests\n",
    "url_read = requests.get(url)\n",
    "\n",
    "\n",
    "# your code here: now print out each line\n",
    "\n",
    "for line in url_read.text.split('\\n'):\n",
    "    print(line)"
   ]
  },
  {
   "cell_type": "markdown",
   "metadata": {
    "id": "mRBLzLFlfhWa"
   },
   "source": [
    "## Counting Word Frequency\n",
    "\n",
    "One of the most fundamental tasks in many text-based data mining activities is to count the frequency of each word in a document.\n",
    "\n",
    "In the following example, we start with a string and split it into a list. We then create an (initially empty) list called *wordfreq*, go through each word in the *wordlist*, and count the number of times that word appears in the whole list. We then add each word’s count to our wordfreq list. Using the *zip* operation, we are able to match the first word of the word list with the first number in the frequency list, the second word and second frequency, and so on. We end up with a list of word and frequency pairs. The *str* function converts any object to a string so that it can be printed."
   ]
  },
  {
   "cell_type": "code",
   "execution_count": 22,
   "metadata": {
    "id": "XsPSj2hPfhWa"
   },
   "outputs": [
    {
     "name": "stdout",
     "output_type": "stream",
     "text": [
      "String\n",
      "it was the best of times it was the worst of times it was the age of wisdom it was the age of foolishness\n",
      "\n",
      "List\n",
      "['it', 'was', 'the', 'best', 'of', 'times', 'it', 'was', 'the', 'worst', 'of', 'times', 'it', 'was', 'the', 'age', 'of', 'wisdom', 'it', 'was', 'the', 'age', 'of', 'foolishness']\n",
      "\n",
      "Frequencies\n",
      "[4, 4, 4, 1, 4, 2, 4, 4, 4, 1, 4, 2, 4, 4, 4, 2, 4, 1, 4, 4, 4, 2, 4, 1]\n",
      "\n",
      "Pairs\n",
      "{'it': 4, 'was': 4, 'the': 4, 'best': 1, 'of': 4, 'times': 2, 'worst': 1, 'age': 2, 'wisdom': 1, 'foolishness': 1}\n"
     ]
    }
   ],
   "source": [
    "wordstring = 'it was the best of times it was the worst of times '\n",
    "wordstring += 'it was the age of wisdom it was the age of foolishness'\n",
    "\n",
    "wordlist = wordstring.split()\n",
    "\n",
    "wordfreq = []\n",
    "for w in wordlist:\n",
    "    wordfreq.append(wordlist.count(w))\n",
    "\n",
    "print(\"String\\n\" + wordstring +\"\\n\")\n",
    "print(\"List\\n\" + str(wordlist) + \"\\n\")\n",
    "print(\"Frequencies\\n\" + str(wordfreq) + \"\\n\")\n",
    "print(\"Pairs\\n\" + str(dict(zip(wordlist, wordfreq))))"
   ]
  },
  {
   "cell_type": "markdown",
   "metadata": {
    "id": "wMw5HXqpfhWa"
   },
   "source": [
    "Now, your job is to open up the url we mentioned a few cells above. Then output the word-frequency pairs in that url, sorted in order of descending frequency. In the case of ours Dickens example here, the output would look something like: [('of', 4), ('it', 4), ('the', 4), ('was', 4), ('age', 2), ('times', 2), ('foolishness', 1), ('worst', 1), ('wisdom', 1), ('best', 1)].\n",
    "\n",
    "Your job is to output a the word-frequency pairs for the url."
   ]
  },
  {
   "cell_type": "code",
   "execution_count": 30,
   "metadata": {
    "id": "Elom_wrDfhWa"
   },
   "outputs": [
    {
     "name": "stdout",
     "output_type": "stream",
     "text": [
      "Pairs\n",
      "{'<div': 67, '</div>': 56, '<li><a': 24, 'the': 18, 'about': 16, 'class=\"inner\">': 16, 'more': 16, '<a': 15, 'Aggie': 9, '<img': 8, '<span': 8, 'More': 8, 'aria-label=\"Read': 8, 'class=\"button\"': 8, 'class=\"fa': 8, 'class=\"row': 8, 'class=\"row-bg\">': 8, 'class=\"star\"></div>': 8, 'class=\"timeline-content\">': 8, 'class=\"timeline-header\">': 8, 'fa-long-arrow-right\"></span></a>': 8, 'timeline-entry\"': 8, 'title=\"Read': 8, 'A&amp;M': 7, 'of': 7, 'on': 7, '</section>': 6, '</ul>': 6, '<section': 6, '<ul': 6, 'at': 6, '<link': 5, 'Big': 5, 'Texas': 5, 'and': 5, 'to': 5, 'Century': 4, 'in': 4, 'is': 4, '</nav>': 3, '<meta': 3, '<nav': 3, '<script': 3, 'Aggies': 3, 'Tag': 3, 'The': 3, 'University\"': 3, 'alt=\"Texas': 3, 'an': 3, 'are': 3, 'class=\"inline-list\">': 3, 'href=\"http://www.tamu.edu/\"><img': 3, 'often': 3, 'rel=\"stylesheet\"': 3, 'type=\"text/css\"/>': 3, 'type=\"text/javascript\"></script>': 3, '-->': 2, '<!--': 2, '<li': 2, '<p>This': 2, 'A&amp;M,': 2, 'Corps</a></li>': 2, 'Culture</a></li>': 2, 'Elephant': 2, 'Event\"': 2, 'Google': 2, 'Manager': 2, 'Pennies': 2, 'Replant\"': 2, 'Ross': 2, 'Sul': 2, 'Traditions\"': 2, 'Tree\"': 2, 'alt=\"Aggie': 2, 'alt=\"Two': 2, 'campus': 2, 'class': 2, 'class=\"TAMU-logo\"': 2, 'href=\"/traditions/\"><img': 2, 'one': 2, 'or': 2, 'over': 2, 'people': 2, 'she': 2, 'src=\"../images/banner.png\"/></a>': 2, 'tradition,': 2, 'unique': 2, 'university': 2, \"'//www.googletagmanager.com/gtm.js?id='+i+dl;f.parentNode.insertBefore(j,f);\": 1, '100': 1, '2022': 1, '77843</a></li>': 1, '<!DOCTYPE': 1, '</aside>': 1, '</body>': 1, '</footer>': 1, '</head>': 1, '</html>': 1, '</li>': 1, '</main>': 1, '<aside': 1, '<body>': 1, '<footer>': 1, '<h1>Aggie': 1, '<h2>1889<span>Aggie': 1, '<h2>1918<span>Pennies': 1, '<h2>1926<span>Elephant': 1, '<h2>1931<span>Reveille</span></h2>': 1, '<h2>1982<span>The': 1, '<h2>1991<span>Replant</span></h2>': 1, '<h2><span>Aggie': 1, '<h2><span>Century': 1, '<head>': 1, '<html': 1, '<li>©': 1, '<main>': 1, '<noscript': 1, '<p>At': 1, '<p>Each': 1, '<p>Placing': 1, '<p>Reveille': 1, '<p>The': 1, '<p>There': 1, \"<script>(function(w,d,s,l,i){w[l]=w[l]||[];w[l].push({'gtm.start':\": 1, '<title>Aggie': 1, 'A&amp;M.</p>': 1, 'Campuses</a></li>': 1, 'Culture': 1, 'Culture</h1>': 1, \"Date().getTime(),event:'gtm.js'});var\": 1, 'End': 1, 'Event\">Read': 1, 'Event</a></li>': 1, 'Event</span></h2>': 1, 'Galveston</a></li>': 1, 'Manager\"': 1, 'Network,': 1, 'Policies</a></li>': 1, 'Qatar</a></li>': 1, 'Replant\">Read': 1, 'Reveille\"': 1, 'Reveille\">Read': 1, 'Ring': 1, 'Ring\"': 1, 'Ring\">Read': 1, 'Ring</a></li>': 1, 'Ring</span></h2>': 1, 'Rings\"': 1, 'States.</p>': 1, 'Station,': 1, 'Sully\"': 1, 'Sully\">Read': 1, 'Sully</a></li>': 1, 'Sully</span></h2>': 1, 'System': 1, 'Terminology\"': 1, 'Terminology\">Read': 1, 'Terminology</a></li>': 1, 'Terminology</span></h2>': 1, 'These': 1, 'Traditions</title>': 1, 'Tree': 1, 'Tree\">Read': 1, 'Tree</a></li>': 1, 'Tree</span></h2>': 1, 'United': 1, 'University</li>': 1, 'Walk\"': 1, 'Walk\">Read': 1, 'Walk</a></li>': 1, 'Walk</span></h2>': 1, 'YMCA': 1, 'a': 1, 'ace': 1, 'after': 1, 'aggie-culture\"></div>': 1, 'along': 1, 'alt=\"A': 1, 'alt=\"Crowd': 1, 'alt=\"Four': 1, 'alt=\"Pennies': 1, 'alt=\"Reveille\"': 1, 'alt=\"The': 1, 'another.': 1, 'aria-hidden=\"true\"><iframe': 1, 'attending': 1, 'base': 1, 'be': 1, 'being': 1, 'between': 1, 'brings': 1, 'building\"': 1, 'campus,': 1, 'can': 1, 'charset=\"utf-8\"/>': 1, 'class=\"banner\">': 1, 'class=\"button': 1, 'class=\"exit-off-canvas\"></a></div>': 1, 'class=\"footer-content\">': 1, 'class=\"footer-img': 1, 'class=\"footer-layout\">': 1, 'class=\"hero-bg': 1, 'class=\"hero-content\">': 1, 'class=\"inner-wrap\"': 1, 'class=\"left-off-canvas-menu\">': 1, 'class=\"left-off-canvas-toggle': 1, 'class=\"left-small\">': 1, 'class=\"links\">': 1, 'class=\"middle': 1, 'class=\"nav-container\">': 1, 'class=\"nav-wrap\">': 1, 'class=\"no-js\"': 1, 'class=\"off-canvas-list\">': 1, 'class=\"off-canvas-wrap\"': 1, 'class=\"right\">': 1, 'class=\"right-small\">': 1, 'class=\"smooth\"': 1, 'class=\"tab-bar\">': 1, 'class=\"title-area\">': 1, 'class=\"toggle-topbar\"><a': 1, 'class=\"top-bar\"': 1, 'class=\"top-bar-section\">': 1, 'class=\"top-links\">': 1, 'connection': 1, 'content</a>': 1, 'content=\"IE=edge\"': 1, 'content=\"width=device-width,': 1, 'corps': 1, 'creating': 1, 'data-offcanvas=\"\">': 1, 'data-topbar=\"\">': 1, 'decades.</p>': 1, 'during': 1, 'events.</p>': 1, 'exam.</p>': 1, 'extra': 1, 'f=d.getElementsByTagName(s)[0],': 1, 'foot': 1, 'for': 1, 'front': 1, 'gathered': 1, 'give': 1, 'grown': 1, 'hands\"': 1, 'has': 1, 'he': 1, 'hear': 1, 'height=\"0\"': 1, 'help': 1, 'history': 1, 'href=\"#\"><span>Menu</span></a></li>': 1, 'href=\"#\">Menu</a>': 1, 'href=\"#aggie-ring\">Aggie': 1, 'href=\"#aggie-terminology\">Aggie': 1, 'href=\"#century-tree\">Century': 1, 'href=\"#elephant-walk\">Elephant': 1, 'href=\"#pennies-on-sully\">Pennies': 1, 'href=\"#replant\">Replant</a></li>': 1, 'href=\"#reveille\">Reveille</a></li>': 1, 'href=\"#skip\">Go': 1, 'href=\"#the-big-event\">The': 1, 'href=\"#timeline\">Skip': 1, 'href=\"../css/app3.css\"': 1, 'href=\"../images/favicon.ico\"': 1, 'href=\"/traditions/aggie-culture/\"': 1, 'href=\"/traditions/aggie-culture/\">Aggie': 1, 'href=\"/traditions/aggie-culture/aggie-ring/\"': 1, 'href=\"/traditions/aggie-culture/aggie-terminology/\"': 1, 'href=\"/traditions/aggie-culture/century-tree/\"': 1, 'href=\"/traditions/aggie-culture/elephant-walk/\"': 1, 'href=\"/traditions/aggie-culture/pennies-on-sully/\"': 1, 'href=\"/traditions/aggie-culture/replant/\"': 1, 'href=\"/traditions/aggie-culture/reveille/\"': 1, 'href=\"/traditions/aggie-culture/the-big-event/\"': 1, 'href=\"/traditions/gameday/\"': 1, 'href=\"/traditions/gameday/\">Gameday</a></li>': 1, 'href=\"/traditions/orientation/\"': 1, 'href=\"/traditions/orientation/\">Orientation</a></li>': 1, 'href=\"/traditions/remembrance/\"': 1, 'href=\"/traditions/remembrance/\">Remembrance</a></li>': 1, 'href=\"/traditions/the-corps/\"': 1, 'href=\"/traditions/the-corps/\">The': 1, 'href=\"https://fonts.googleapis.com/css?family=Open+Sans:300,400,400italic,800\"': 1, 'href=\"https://fonts.googleapis.com/css?family=Oswald:300,400,700\"': 1, 'href=\"https://www.google.com/maps/place/Texas+A%26M+University/@30.614919,-96.342316,17z/data=!3m1!4b1!4m2!3m1!1s0x864683a30a9a7c41:0xdb2904a4a0fbd02?hl=en\">College': 1, 'href=\"https://www.qatar.tamu.edu/\">Texas': 1, 'href=\"https://www.tamu.edu/statements/index.html\">Site': 1, 'href=\"https://www.tamu.edu/traditions/aggie-culture/index.html\"': 1, 'href=\"https://www.tamug.edu/\">Texas': 1, 'href=\"https://www.tamus.edu/system/about/\">Texas': 1, 'html>': 1, 'http-equiv=\"X-UA-Compatible\"/>': 1, 'hundreds': 1, 'icon\"/>': 1, 'id=\"aggie-ring\">': 1, 'id=\"aggie-terminology\">': 1, 'id=\"century-tree\">': 1, 'id=\"corpsLink\">The': 1, 'id=\"cultureLink\">Aggie': 1, 'id=\"elephant-walk\">': 1, 'id=\"gamedayLink\">Gameday</a></li>': 1, 'id=\"hero\">': 1, 'id=\"orientationLink\">Orientation</a></li>': 1, 'id=\"pennies-on-sully\">': 1, 'id=\"remembranceLink\">Remembrance</a></li>': 1, 'id=\"replant\">': 1, 'id=\"reveille\">': 1, 'id=\"skip\">': 1, 'id=\"the-big-event\">': 1, 'id=\"timeline\">': 1, 'initial-scale=1.0\"': 1, 'instant': 1, 'itself.</p>': 1, \"j=d.createElement(s),dl=l!='dataLayer'?'&amp;l='+l:'';j.async=true;j.src=\": 1, 'just': 1, 'lang=\"en\">': 1, 'largest': 1, 'leave': 1, 'leaves': 1, 'like': 1, 'local': 1, 'long': 1, 'luck': 1, 'main': 1, 'many': 1, 'mascot': 1, 'members': 1, 'menu-icon\"': 1, 'might': 1, 'most': 1, 'much': 1, 'name=\"viewport\"/>': 1, 'needs': 1, 'new': 1, 'official': 1, 'old,': 1, 'oldest': 1, 'one-day': 1, 'parks': 1, 'pennies': 1, 'phrases': 1, 'plant': 1, 'planted': 1, 'project': 1, 'raking': 1, 'recognizable': 1, 'rel=\"canonical\"/>': 1, 'rel=\"shortcut': 1, 'role=\"navigation\">': 1, 'rooted': 1, 'schools.</p>': 1, 'seen': 1, 'senior': 1, 'service': 1, 'shaking': 1, 'show-for-small': 1, 'showing': 1, 'smooth\"': 1, 'speaking': 1, 'src=\"../images/TAM-Logo-white-small.png\"/></a>': 1, 'src=\"../images/TAM-Logo-white-small.png\"/></a></li>': 1, 'src=\"../images/aggie-culture/aggie-ring.jpg\"/>': 1, 'src=\"../images/aggie-culture/aggie-terminology.jpg\"/>': 1, 'src=\"../images/aggie-culture/century-tree.jpg\"/>': 1, 'src=\"../images/aggie-culture/elephant-walk.jpg\"/>': 1, 'src=\"../images/aggie-culture/pennies-on-sully.jpg\"/>': 1, 'src=\"../images/aggie-culture/replant.jpg\"/>': 1, 'src=\"../images/aggie-culture/reveille-x-traditions.jpg\"/>': 1, 'src=\"../images/aggie-culture/the-big-event.jpg\"/>': 1, 'src=\"../images/primary-mark.png\"/></a></div>': 1, 'src=\"../js/app.js\"': 1, 'src=\"../js/jquery.js\"': 1, 'src=\"../js/modernizr.js\"': 1, 'src=\"//www.googletagmanager.com/ns.html?id=GTM-53LFZF\"': 1, 'statue': 1, 'statue\"': 1, 'student-run': 1, 'style=\"display:none;visibility:hidden\"': 1, 'symbol': 1, 'symbolic': 1, 'tab-bar-section\">': 1, 'terms': 1, 'text-center\"><a': 1, 'that': 1, 'their': 1, 'them': 1, 'they': 1, 'through': 1, 'title=\"Google': 1, 'together': 1, 'top</a>': 1, 'tradition': 1, 'tree': 1, 'trees': 1, 'university.</p>': 1, 'upcoming': 1, 'using': 1, 'walk': 1, 'when': 1, 'which': 1, 'white-button': 1, 'width=\"0\"></iframe></noscript>': 1, 'with': 1, 'words': 1, 'xmlns=\"http://www.w3.org/1999/xhtml\"': 1, 'year,': 1, 'years': 1, \"you'll\": 1, '|': 1, \"})(window,document,'script','dataLayer','GTM-53LFZF');</script>\": 1}\n"
     ]
    }
   ],
   "source": [
    "# your code here\n",
    "string_url = url_read.text\n",
    "url_word_list = string_url.split()\n",
    "url_word_list.sort(reverse = True)\n",
    "url_word_list\n",
    "\n",
    "wordfreq_url = []\n",
    "for w in url_word_list:\n",
    "    wordfreq_url.append(url_word_list.count(w))\n",
    "    \n",
    "result = dict(zip(url_word_list, wordfreq_url))\n",
    "# print(result)\n",
    "\n",
    "sorted_result = dict(reversed(sorted(result.items(), key=lambda item: item[1])))\n",
    "    \n",
    "print(\"Pairs\\n\" + str(sorted_result))"
   ]
  },
  {
   "cell_type": "code",
   "execution_count": null,
   "metadata": {},
   "outputs": [],
   "source": []
  }
 ],
 "metadata": {
  "anaconda-cloud": {},
  "colab": {
   "provenance": []
  },
  "kernelspec": {
   "display_name": "Python 3 (ipykernel)",
   "language": "python",
   "name": "python3"
  },
  "language_info": {
   "codemirror_mode": {
    "name": "ipython",
    "version": 3
   },
   "file_extension": ".py",
   "mimetype": "text/x-python",
   "name": "python",
   "nbconvert_exporter": "python",
   "pygments_lexer": "ipython3",
   "version": "3.9.13"
  }
 },
 "nbformat": 4,
 "nbformat_minor": 1
}
